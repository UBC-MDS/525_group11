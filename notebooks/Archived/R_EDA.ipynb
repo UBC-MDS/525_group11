{
 "cells": [
  {
   "cell_type": "code",
   "execution_count": 1,
   "metadata": {},
   "outputs": [],
   "source": [
    "# will not copy to the main file\n",
    "import os,sys,inspect\n",
    "import pandas as pd\n",
    "from memory_profiler import memory_usage"
   ]
  },
  {
   "cell_type": "code",
   "execution_count": 2,
   "metadata": {},
   "outputs": [
    {
     "name": "stderr",
     "output_type": "stream",
     "text": [
      "C:\\Users\\A\\miniconda3\\envs\\525\\lib\\site-packages\\rpy2\\robjects\\packages.py:366: UserWarning: The symbol 'quartz' is not in this R namespace/package.\n",
      "  warnings.warn(\n"
     ]
    }
   ],
   "source": [
    "# will not copy to the main file\n",
    "%load_ext rpy2.ipython\n",
    "%load_ext memory_profiler"
   ]
  },
  {
   "cell_type": "code",
   "execution_count": 3,
   "metadata": {},
   "outputs": [],
   "source": [
    "import pyarrow.feather as feather"
   ]
  },
  {
   "cell_type": "code",
   "execution_count": 4,
   "metadata": {},
   "outputs": [],
   "source": [
    "# will not copy to the main file\n",
    "currentdir = os.path.dirname(os.path.abspath(inspect.getfile(inspect.currentframe())))\n",
    "parentdir = os.path.dirname(currentdir) # this refers to the project root folder"
   ]
  },
  {
   "cell_type": "code",
   "execution_count": 5,
   "metadata": {},
   "outputs": [],
   "source": [
    "processed_folder = os.path.join(parentdir,\"data\", \"processed\")\n",
    "\n",
    "input_path = os.path.join(processed_folder, \"combined_data.csv\")\n",
    "output_path = os.path.join(processed_folder, \"combined_data.feather\")"
   ]
  },
  {
   "cell_type": "code",
   "execution_count": 6,
   "metadata": {},
   "outputs": [],
   "source": [
    "# %%time\n",
    "# %memit\n",
    "\n",
    "# df = pd.read_csv(input_path)"
   ]
  },
  {
   "cell_type": "code",
   "execution_count": 7,
   "metadata": {},
   "outputs": [],
   "source": [
    "# %%time\n",
    "# %memit\n",
    "\n",
    "# feather.write_feather(df, output_path)"
   ]
  },
  {
   "cell_type": "code",
   "execution_count": 8,
   "metadata": {},
   "outputs": [],
   "source": [
    "# %%R\n",
    "\n",
    "# install.packages(\"dplyr\")\n",
    "# library(arrow)"
   ]
  },
  {
   "cell_type": "code",
   "execution_count": null,
   "metadata": {},
   "outputs": [],
   "source": [
    "%%time\n",
    "%%R\n",
    "library(dplyr)\n",
    "library(arrow)\n",
    "start_time <- Sys.time()\n",
    "r_table <- arrow::read_feather(\"../data/processed/combined_data.feather\")\n",
    "print(class(r_table))\n",
    "result <- r_table %>% count(model)\n",
    "end_time <- Sys.time() \n",
    "print(result)\n",
    "print(end_time - start_time)"
   ]
  },
  {
   "cell_type": "markdown",
   "metadata": {},
   "source": [
    "## Conclusion\n",
    "\n",
    "After having thoroughly discussed, our team have reached a consensus that `Feather` file is the most suitable approach to transfer the dataframe from Python to R. We use read / write speed and the ability to support various operations as the criteria to make the decision.\n",
    "\n",
    "As the input data is around 5.7GB, it is extremely slow to use `Pandas` exchange, hence its rejection. We do not select `Arrow` exchange as it only supports some operations ([link in Gittu's lecture note](https://arrow.apache.org/docs/r/articles/dataset.html)). `Parquet` file, even though is quite fast, is still slower than `Feather` V2 version when being read. Similarly, it is much faster to write into a `Feather` file than a `Parquet` file from a Python dataframe ([link in Gittu's lecture note](https://ursalabs.org/blog/2020-feather-v2/)). Even though a `Parquet` file can save more storage space, it is not a main concern for us as storage cost is cheap given this file size."
   ]
  }
 ],
 "metadata": {
  "kernelspec": {
   "display_name": "Python [conda env:525]",
   "language": "python",
   "name": "conda-env-525-py"
  },
  "language_info": {
   "codemirror_mode": {
    "name": "ipython",
    "version": 3
   },
   "file_extension": ".py",
   "mimetype": "text/x-python",
   "name": "python",
   "nbconvert_exporter": "python",
   "pygments_lexer": "ipython3",
   "version": "3.9.2"
  }
 },
 "nbformat": 4,
 "nbformat_minor": 5
}
