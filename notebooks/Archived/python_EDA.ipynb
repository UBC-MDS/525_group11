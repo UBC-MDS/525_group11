{
 "cells": [
  {
   "cell_type": "code",
   "execution_count": 4,
   "metadata": {},
   "outputs": [],
   "source": [
    "import re\n",
    "import os\n",
    "import glob\n",
    "import zipfile\n",
    "import requests\n",
    "from urllib.request import urlretrieve\n",
    "import json\n",
    "import pandas as pd\n",
    "from memory_profiler import memory_usage\n",
    "import numpy as np"
   ]
  },
  {
   "cell_type": "code",
   "execution_count": 5,
   "metadata": {},
   "outputs": [
    {
     "name": "stderr",
     "output_type": "stream",
     "text": [
      "C:\\Users\\A\\miniconda3\\envs\\525\\lib\\site-packages\\rpy2\\robjects\\packages.py:366: UserWarning: The symbol 'quartz' is not in this R namespace/package.\n",
      "  warnings.warn(\n"
     ]
    }
   ],
   "source": [
    "%load_ext rpy2.ipython\n",
    "%load_ext memory_profiler"
   ]
  },
  {
   "cell_type": "markdown",
   "metadata": {},
   "source": [
    "# Changing `dtype` of the data\n",
    "<hr>"
   ]
  },
  {
   "cell_type": "code",
   "execution_count": 6,
   "metadata": {},
   "outputs": [
    {
     "data": {
      "text/html": [
       "<div>\n",
       "<style scoped>\n",
       "    .dataframe tbody tr th:only-of-type {\n",
       "        vertical-align: middle;\n",
       "    }\n",
       "\n",
       "    .dataframe tbody tr th {\n",
       "        vertical-align: top;\n",
       "    }\n",
       "\n",
       "    .dataframe thead th {\n",
       "        text-align: right;\n",
       "    }\n",
       "</style>\n",
       "<table border=\"1\" class=\"dataframe\">\n",
       "  <thead>\n",
       "    <tr style=\"text-align: right;\">\n",
       "      <th></th>\n",
       "      <th>time</th>\n",
       "      <th>lat_min</th>\n",
       "      <th>lat_max</th>\n",
       "      <th>lon_min</th>\n",
       "      <th>lon_max</th>\n",
       "      <th>rain (mm/day)</th>\n",
       "      <th>model</th>\n",
       "    </tr>\n",
       "  </thead>\n",
       "  <tbody>\n",
       "    <tr>\n",
       "      <th>0</th>\n",
       "      <td>1889-01-01 12:00:00</td>\n",
       "      <td>-36.25</td>\n",
       "      <td>-35.0</td>\n",
       "      <td>140.625</td>\n",
       "      <td>142.5</td>\n",
       "      <td>3.293256e-13</td>\n",
       "      <td>ACCESS-CM2</td>\n",
       "    </tr>\n",
       "    <tr>\n",
       "      <th>1</th>\n",
       "      <td>1889-01-02 12:00:00</td>\n",
       "      <td>-36.25</td>\n",
       "      <td>-35.0</td>\n",
       "      <td>140.625</td>\n",
       "      <td>142.5</td>\n",
       "      <td>0.000000e+00</td>\n",
       "      <td>ACCESS-CM2</td>\n",
       "    </tr>\n",
       "    <tr>\n",
       "      <th>2</th>\n",
       "      <td>1889-01-03 12:00:00</td>\n",
       "      <td>-36.25</td>\n",
       "      <td>-35.0</td>\n",
       "      <td>140.625</td>\n",
       "      <td>142.5</td>\n",
       "      <td>0.000000e+00</td>\n",
       "      <td>ACCESS-CM2</td>\n",
       "    </tr>\n",
       "    <tr>\n",
       "      <th>3</th>\n",
       "      <td>1889-01-04 12:00:00</td>\n",
       "      <td>-36.25</td>\n",
       "      <td>-35.0</td>\n",
       "      <td>140.625</td>\n",
       "      <td>142.5</td>\n",
       "      <td>0.000000e+00</td>\n",
       "      <td>ACCESS-CM2</td>\n",
       "    </tr>\n",
       "    <tr>\n",
       "      <th>4</th>\n",
       "      <td>1889-01-05 12:00:00</td>\n",
       "      <td>-36.25</td>\n",
       "      <td>-35.0</td>\n",
       "      <td>140.625</td>\n",
       "      <td>142.5</td>\n",
       "      <td>1.047658e-02</td>\n",
       "      <td>ACCESS-CM2</td>\n",
       "    </tr>\n",
       "  </tbody>\n",
       "</table>\n",
       "</div>"
      ],
      "text/plain": [
       "                  time  lat_min  lat_max  lon_min  lon_max  rain (mm/day)  \\\n",
       "0  1889-01-01 12:00:00   -36.25    -35.0  140.625    142.5   3.293256e-13   \n",
       "1  1889-01-02 12:00:00   -36.25    -35.0  140.625    142.5   0.000000e+00   \n",
       "2  1889-01-03 12:00:00   -36.25    -35.0  140.625    142.5   0.000000e+00   \n",
       "3  1889-01-04 12:00:00   -36.25    -35.0  140.625    142.5   0.000000e+00   \n",
       "4  1889-01-05 12:00:00   -36.25    -35.0  140.625    142.5   1.047658e-02   \n",
       "\n",
       "        model  \n",
       "0  ACCESS-CM2  \n",
       "1  ACCESS-CM2  \n",
       "2  ACCESS-CM2  \n",
       "3  ACCESS-CM2  \n",
       "4  ACCESS-CM2  "
      ]
     },
     "execution_count": 6,
     "metadata": {},
     "output_type": "execute_result"
    }
   ],
   "source": [
    "# Loading the combined dataframe to the memory\n",
    "df = pd.read_csv(\"../data/processed/combined_data.csv\")\n",
    "df.head()"
   ]
  },
  {
   "cell_type": "code",
   "execution_count": 4,
   "metadata": {},
   "outputs": [
    {
     "data": {
      "text/plain": [
       "time              object\n",
       "lat_min          float64\n",
       "lat_max          float64\n",
       "lon_min          float64\n",
       "lon_max          float64\n",
       "rain (mm/day)    float64\n",
       "model             object\n",
       "dtype: object"
      ]
     },
     "execution_count": 4,
     "metadata": {},
     "output_type": "execute_result"
    }
   ],
   "source": [
    "# Checking data types of the columns\n",
    "df.dtypes"
   ]
  },
  {
   "cell_type": "code",
   "execution_count": 5,
   "metadata": {},
   "outputs": [
    {
     "data": {
      "text/html": [
       "<div>\n",
       "<style scoped>\n",
       "    .dataframe tbody tr th:only-of-type {\n",
       "        vertical-align: middle;\n",
       "    }\n",
       "\n",
       "    .dataframe tbody tr th {\n",
       "        vertical-align: top;\n",
       "    }\n",
       "\n",
       "    .dataframe thead th {\n",
       "        text-align: right;\n",
       "    }\n",
       "</style>\n",
       "<table border=\"1\" class=\"dataframe\">\n",
       "  <thead>\n",
       "    <tr style=\"text-align: right;\">\n",
       "      <th></th>\n",
       "      <th>min</th>\n",
       "      <th>max</th>\n",
       "      <th>within float32 range</th>\n",
       "    </tr>\n",
       "  </thead>\n",
       "  <tbody>\n",
       "    <tr>\n",
       "      <th>lat_min</th>\n",
       "      <td>-3.646739e+01</td>\n",
       "      <td>-29.900000</td>\n",
       "      <td>True</td>\n",
       "    </tr>\n",
       "    <tr>\n",
       "      <th>lat_max</th>\n",
       "      <td>-3.600000e+01</td>\n",
       "      <td>-27.906064</td>\n",
       "      <td>True</td>\n",
       "    </tr>\n",
       "    <tr>\n",
       "      <th>lon_min</th>\n",
       "      <td>1.406250e+02</td>\n",
       "      <td>153.750000</td>\n",
       "      <td>True</td>\n",
       "    </tr>\n",
       "    <tr>\n",
       "      <th>lon_max</th>\n",
       "      <td>1.412500e+02</td>\n",
       "      <td>155.625000</td>\n",
       "      <td>True</td>\n",
       "    </tr>\n",
       "    <tr>\n",
       "      <th>rain (mm/day)</th>\n",
       "      <td>-3.807373e-12</td>\n",
       "      <td>432.939515</td>\n",
       "      <td>True</td>\n",
       "    </tr>\n",
       "  </tbody>\n",
       "</table>\n",
       "</div>"
      ],
      "text/plain": [
       "                        min         max within float32 range\n",
       "lat_min       -3.646739e+01  -29.900000                 True\n",
       "lat_max       -3.600000e+01  -27.906064                 True\n",
       "lon_min        1.406250e+02  153.750000                 True\n",
       "lon_max        1.412500e+02  155.625000                 True\n",
       "rain (mm/day) -3.807373e-12  432.939515                 True"
      ]
     },
     "execution_count": 5,
     "metadata": {},
     "output_type": "execute_result"
    }
   ],
   "source": [
    "#Checking if the max and min values of the float64-type columns are within the range of `float32`\n",
    "df_numeric_summary = df.describe().loc[[\"min\", \"max\"], :].T\n",
    "df_numeric_summary[\"within float32 range\"] = df_numeric_summary[[\"min\", \"max\"]].apply(lambda x:\n",
    "                                                                                      \"True\" if (x[\"min\"] > np.finfo(np.float32).min\n",
    "                                                                                                 and x[\"max\"] < np.finfo(np.float32).max)\n",
    "                                                                                             else \"False\", axis=1)\n",
    "df_numeric_summary"
   ]
  },
  {
   "cell_type": "code",
   "execution_count": 6,
   "metadata": {},
   "outputs": [
    {
     "name": "stdout",
     "output_type": "stream",
     "text": [
      "Memory usage with float64 (default): 2498.71 MB\n",
      "Memory usage with float32: 1249.36 MB\n"
     ]
    }
   ],
   "source": [
    "print(f\"Memory usage with float64 (default): {df[['lat_min','lat_max','lon_min', 'lon_max', 'rain (mm/day)']].memory_usage().sum() / 1e6:.2f} MB\")\n",
    "print(f\"Memory usage with float32: {df[['lat_min','lat_max','lon_min', 'lon_max', 'rain (mm/day)']].astype('float32', errors='ignore').memory_usage().sum() / 1e6:.2f} MB\")"
   ]
  },
  {
   "cell_type": "code",
   "execution_count": 7,
   "metadata": {},
   "outputs": [
    {
     "name": "stdout",
     "output_type": "stream",
     "text": [
      "Memory usage with object (default) for the time column: 499.74 MB\n",
      "Memory usage with datetime64 for the time column: 499.74 MB\n"
     ]
    }
   ],
   "source": [
    "print(f\"Memory usage with object (default) for the time column: {df[['time']].memory_usage().sum() / 1e6:.2f} MB\")\n",
    "print(f\"Memory usage with datetime64 for the time column: {df[['time']].astype('datetime64[ns]', errors='ignore').memory_usage().sum() / 1e6:.2f} MB\")"
   ]
  },
  {
   "cell_type": "code",
   "execution_count": 8,
   "metadata": {},
   "outputs": [
    {
     "data": {
      "text/plain": [
       "array(['MPI-ESM-1-2-HAM', 'AWI-ESM-1-1-LR', 'NorESM2-LM', 'ACCESS-CM2',\n",
       "       'FGOALS-f3-L', 'CMCC-CM2-HR4', 'MRI-ESM2-0', 'GFDL-CM4',\n",
       "       'BCC-CSM2-MR', 'EC-Earth3-Veg-LR', 'CMCC-ESM2', 'NESM3',\n",
       "       'MPI-ESM1-2-LR', 'ACCESS-ESM1-5', 'FGOALS-g3', 'INM-CM4-8',\n",
       "       'MPI-ESM1-2-HR', 'TaiESM1', 'NorESM2-MM', 'CMCC-CM2-SR5',\n",
       "       'KIOST-ESM', 'INM-CM5-0', 'MIROC6', 'BCC-ESM1', 'GFDL-ESM4',\n",
       "       'CanESM5', 'SAM0-UNICON'], dtype=object)"
      ]
     },
     "execution_count": 8,
     "metadata": {},
     "output_type": "execute_result"
    }
   ],
   "source": [
    "# Checking the `model` column's unique values\n",
    "df.model.unique()"
   ]
  },
  {
   "cell_type": "code",
   "execution_count": 9,
   "metadata": {},
   "outputs": [
    {
     "name": "stdout",
     "output_type": "stream",
     "text": [
      "Memory usage with object (default) for the model column: 499.74 MB\n",
      "Memory usage with string for the model column: 499.74 MB\n"
     ]
    }
   ],
   "source": [
    "print(f\"Memory usage with object (default) for the model column: {df[['model']].memory_usage().sum() / 1e6:.2f} MB\")\n",
    "print(f\"Memory usage with string for the model column: {df[['model']].astype('string', errors='ignore').memory_usage().sum() / 1e6:.2f} MB\")"
   ]
  },
  {
   "cell_type": "code",
   "execution_count": 10,
   "metadata": {},
   "outputs": [
    {
     "data": {
      "text/html": [
       "<div>\n",
       "<style scoped>\n",
       "    .dataframe tbody tr th:only-of-type {\n",
       "        vertical-align: middle;\n",
       "    }\n",
       "\n",
       "    .dataframe tbody tr th {\n",
       "        vertical-align: top;\n",
       "    }\n",
       "\n",
       "    .dataframe thead th {\n",
       "        text-align: right;\n",
       "    }\n",
       "</style>\n",
       "<table border=\"1\" class=\"dataframe\">\n",
       "  <thead>\n",
       "    <tr style=\"text-align: right;\">\n",
       "      <th></th>\n",
       "      <th>column name</th>\n",
       "      <th>memory savings</th>\n",
       "    </tr>\n",
       "  </thead>\n",
       "  <tbody>\n",
       "    <tr>\n",
       "      <th>0</th>\n",
       "      <td>time</td>\n",
       "      <td>0.000000</td>\n",
       "    </tr>\n",
       "    <tr>\n",
       "      <th>1</th>\n",
       "      <td>lat_min</td>\n",
       "      <td>249.871372</td>\n",
       "    </tr>\n",
       "    <tr>\n",
       "      <th>2</th>\n",
       "      <td>lat_max</td>\n",
       "      <td>249.871372</td>\n",
       "    </tr>\n",
       "    <tr>\n",
       "      <th>3</th>\n",
       "      <td>lon_min</td>\n",
       "      <td>249.871372</td>\n",
       "    </tr>\n",
       "    <tr>\n",
       "      <th>4</th>\n",
       "      <td>lon_max</td>\n",
       "      <td>249.871372</td>\n",
       "    </tr>\n",
       "    <tr>\n",
       "      <th>5</th>\n",
       "      <td>rain (mm/day)</td>\n",
       "      <td>249.871372</td>\n",
       "    </tr>\n",
       "    <tr>\n",
       "      <th>6</th>\n",
       "      <td>model</td>\n",
       "      <td>0.000000</td>\n",
       "    </tr>\n",
       "  </tbody>\n",
       "</table>\n",
       "</div>"
      ],
      "text/plain": [
       "     column name  memory savings\n",
       "0           time        0.000000\n",
       "1        lat_min      249.871372\n",
       "2        lat_max      249.871372\n",
       "3        lon_min      249.871372\n",
       "4        lon_max      249.871372\n",
       "5  rain (mm/day)      249.871372\n",
       "6          model        0.000000"
      ]
     },
     "execution_count": 10,
     "metadata": {},
     "output_type": "execute_result"
    }
   ],
   "source": [
    "# Calculating memory savings for each column\n",
    "df_memory_savings = pd.DataFrame(columns = df.columns).T.reset_index().rename(columns={'index': 'column name'})\n",
    "\n",
    "list_savings = []\n",
    "savings = 0\n",
    "for col in df.columns:\n",
    "    if df[col].dtypes == \"float64\":\n",
    "        savings = (df[[col]].memory_usage().sum() / 1e6) - (df[[col]].astype('float32', errors='ignore').memory_usage().sum() / 1e6)\n",
    "        list_savings.append(savings)\n",
    "        savings = 0\n",
    "    elif col == \"time\":\n",
    "        savings = (df[[\"time\"]].memory_usage().sum() / 1e6) - (df[[col]].astype('datetime64[ns]', errors='ignore').memory_usage().sum() / 1e6)\n",
    "        list_savings.append(savings)\n",
    "        savings = 0\n",
    "    else:\n",
    "        savings = (df[[\"model\"]].memory_usage().sum() / 1e6) - (df[[col]].astype('string', errors='ignore').memory_usage().sum() / 1e6)\n",
    "        list_savings.append(savings)\n",
    "        savings = 0\n",
    "\n",
    "df_memory_savings['memory savings'] = pd.Series(list_savings).values\n",
    "df_memory_savings"
   ]
  },
  {
   "cell_type": "code",
   "execution_count": 11,
   "metadata": {},
   "outputs": [
    {
     "name": "stdout",
     "output_type": "stream",
     "text": [
      "\u001b[1mMemory savings due to changing the data types of the columns: 1249.36 MB\n"
     ]
    }
   ],
   "source": [
    "print(\"\\033[1m\" + f\"Memory savings due to changing the data types of the columns: {df_memory_savings['memory savings'].sum():.2f} MB\")"
   ]
  },
  {
   "cell_type": "markdown",
   "metadata": {},
   "source": [
    "<br>"
   ]
  },
  {
   "cell_type": "markdown",
   "metadata": {},
   "source": [
    "# Loading just the columns we want\n",
    "<hr>"
   ]
  },
  {
   "cell_type": "code",
   "execution_count": 12,
   "metadata": {},
   "outputs": [
    {
     "name": "stdout",
     "output_type": "stream",
     "text": [
      "Memory usage with all columns: 3498.20 MB\n"
     ]
    }
   ],
   "source": [
    "print(f\"Memory usage with all columns: {df[['time', 'lat_min','lat_max','lon_min', 'lon_max', 'rain (mm/day)', 'model']].memory_usage().sum() / 1e6:.2f} MB\")"
   ]
  },
  {
   "cell_type": "code",
   "execution_count": 13,
   "metadata": {},
   "outputs": [
    {
     "name": "stdout",
     "output_type": "stream",
     "text": [
      "Memory usage of the reduced dataframe: 2498.71 MB\n"
     ]
    },
    {
     "data": {
      "text/html": [
       "<div>\n",
       "<style scoped>\n",
       "    .dataframe tbody tr th:only-of-type {\n",
       "        vertical-align: middle;\n",
       "    }\n",
       "\n",
       "    .dataframe tbody tr th {\n",
       "        vertical-align: top;\n",
       "    }\n",
       "\n",
       "    .dataframe thead th {\n",
       "        text-align: right;\n",
       "    }\n",
       "</style>\n",
       "<table border=\"1\" class=\"dataframe\">\n",
       "  <thead>\n",
       "    <tr style=\"text-align: right;\">\n",
       "      <th></th>\n",
       "      <th>time</th>\n",
       "      <th>lat_max</th>\n",
       "      <th>lon_max</th>\n",
       "      <th>rain (mm/day)</th>\n",
       "      <th>model</th>\n",
       "    </tr>\n",
       "  </thead>\n",
       "  <tbody>\n",
       "    <tr>\n",
       "      <th>0</th>\n",
       "      <td>1889-01-01 12:00:00</td>\n",
       "      <td>-33.574619</td>\n",
       "      <td>143.4375</td>\n",
       "      <td>4.244226e-13</td>\n",
       "      <td>MPI-ESM-1-2-HAM</td>\n",
       "    </tr>\n",
       "    <tr>\n",
       "      <th>1</th>\n",
       "      <td>1889-01-02 12:00:00</td>\n",
       "      <td>-33.574619</td>\n",
       "      <td>143.4375</td>\n",
       "      <td>4.217326e-13</td>\n",
       "      <td>MPI-ESM-1-2-HAM</td>\n",
       "    </tr>\n",
       "    <tr>\n",
       "      <th>2</th>\n",
       "      <td>1889-01-03 12:00:00</td>\n",
       "      <td>-33.574619</td>\n",
       "      <td>143.4375</td>\n",
       "      <td>4.498125e-13</td>\n",
       "      <td>MPI-ESM-1-2-HAM</td>\n",
       "    </tr>\n",
       "    <tr>\n",
       "      <th>3</th>\n",
       "      <td>1889-01-04 12:00:00</td>\n",
       "      <td>-33.574619</td>\n",
       "      <td>143.4375</td>\n",
       "      <td>4.251282e-13</td>\n",
       "      <td>MPI-ESM-1-2-HAM</td>\n",
       "    </tr>\n",
       "    <tr>\n",
       "      <th>4</th>\n",
       "      <td>1889-01-05 12:00:00</td>\n",
       "      <td>-33.574619</td>\n",
       "      <td>143.4375</td>\n",
       "      <td>4.270161e-13</td>\n",
       "      <td>MPI-ESM-1-2-HAM</td>\n",
       "    </tr>\n",
       "  </tbody>\n",
       "</table>\n",
       "</div>"
      ],
      "text/plain": [
       "                  time    lat_max   lon_max  rain (mm/day)            model\n",
       "0  1889-01-01 12:00:00 -33.574619  143.4375   4.244226e-13  MPI-ESM-1-2-HAM\n",
       "1  1889-01-02 12:00:00 -33.574619  143.4375   4.217326e-13  MPI-ESM-1-2-HAM\n",
       "2  1889-01-03 12:00:00 -33.574619  143.4375   4.498125e-13  MPI-ESM-1-2-HAM\n",
       "3  1889-01-04 12:00:00 -33.574619  143.4375   4.251282e-13  MPI-ESM-1-2-HAM\n",
       "4  1889-01-05 12:00:00 -33.574619  143.4375   4.270161e-13  MPI-ESM-1-2-HAM"
      ]
     },
     "execution_count": 13,
     "metadata": {},
     "output_type": "execute_result"
    }
   ],
   "source": [
    "# Dropping `lat_min` and `lon_min` columns\n",
    "df_reduced = df.drop(['lat_min', 'lon_min'], axis=1);\n",
    "print(f\"Memory usage of the reduced dataframe: {df_reduced.memory_usage().sum() / 1e6:.2f} MB\")\n",
    "df_reduced.head()"
   ]
  },
  {
   "cell_type": "code",
   "execution_count": 14,
   "metadata": {},
   "outputs": [
    {
     "name": "stdout",
     "output_type": "stream",
     "text": [
      "\u001b[1mMemory savings due to loading not all columns: 999.49 MB\n"
     ]
    }
   ],
   "source": [
    "print(\"\\033[1m\" + f\"Memory savings due to loading not all columns: {df[['lat_min', 'lon_min']].memory_usage().sum() / 1e6:.2f} MB\")"
   ]
  },
  {
   "cell_type": "markdown",
   "metadata": {},
   "source": [
    "<br>"
   ]
  },
  {
   "cell_type": "markdown",
   "metadata": {},
   "source": [
    "# Loading data in chunks\n",
    "<hr>"
   ]
  },
  {
   "cell_type": "code",
   "execution_count": 31,
   "metadata": {},
   "outputs": [
    {
     "name": "stdout",
     "output_type": "stream",
     "text": [
      "peak memory: 7295.00 MiB, increment: 5542.13 MiB\n"
     ]
    }
   ],
   "source": [
    "%%memit\n",
    "df = pd.read_csv(\"../data/processed/combined_data.csv\")\n",
    "df['model'].value_counts()"
   ]
  },
  {
   "cell_type": "code",
   "execution_count": 32,
   "metadata": {},
   "outputs": [
    {
     "name": "stdout",
     "output_type": "stream",
     "text": [
      "Memory usage with loading all data of the 'model' column and perform value_counts EDA: 7649.36 MB\n"
     ]
    }
   ],
   "source": [
    "print(f\"Memory usage with loading all data of the 'model' column and perform value_counts EDA: {7295 * 1.048576:.2f} MB\")"
   ]
  },
  {
   "cell_type": "code",
   "execution_count": 29,
   "metadata": {},
   "outputs": [
    {
     "name": "stdout",
     "output_type": "stream",
     "text": [
      "ACCESS-CM2          1932840.0\n",
      "ACCESS-ESM1-5       1610700.0\n",
      "AWI-ESM-1-1-LR       966420.0\n",
      "BCC-CSM2-MR         3035340.0\n",
      "BCC-ESM1             551880.0\n",
      "CMCC-CM2-HR4        3541230.0\n",
      "CMCC-CM2-SR5        3541230.0\n",
      "CMCC-ESM2           3541230.0\n",
      "CanESM5              551880.0\n",
      "EC-Earth3-Veg-LR    3037320.0\n",
      "FGOALS-f3-L         3219300.0\n",
      "FGOALS-g3           1287720.0\n",
      "GFDL-CM4            3219300.0\n",
      "GFDL-ESM4           3219300.0\n",
      "INM-CM4-8           1609650.0\n",
      "INM-CM5-0           1609650.0\n",
      "KIOST-ESM           1287720.0\n",
      "MIROC6              2070900.0\n",
      "MPI-ESM-1-2-HAM      966420.0\n",
      "MPI-ESM1-2-HR       5154240.0\n",
      "MPI-ESM1-2-LR        966420.0\n",
      "MRI-ESM2-0          3037320.0\n",
      "NESM3                966420.0\n",
      "NorESM2-LM           919800.0\n",
      "NorESM2-MM          3541230.0\n",
      "SAM0-UNICON         3541153.0\n",
      "TaiESM1             3541230.0\n",
      "dtype: object\n",
      "peak memory: 3699.65 MiB, increment: 2144.54 MiB\n"
     ]
    }
   ],
   "source": [
    "%%memit\n",
    "values = pd.Series(dtype=object)\n",
    "for chunk in pd.read_csv(\"../data/processed/combined_data.csv\", chunksize=10_000_000):\n",
    "    values = values.add(chunk['model'].value_counts(), fill_value=0)\n",
    "print(values.astype(object))"
   ]
  },
  {
   "cell_type": "code",
   "execution_count": 37,
   "metadata": {},
   "outputs": [
    {
     "name": "stdout",
     "output_type": "stream",
     "text": [
      "Memory usage with loading in chunks of the 'model' column and perform value_counts EDA: 3879.36 MB\n"
     ]
    }
   ],
   "source": [
    "print(f\"Memory usage with loading in chunks of the 'model' column and perform value_counts EDA: {3699.65 * 1.048576:.2f} MB\")"
   ]
  },
  {
   "cell_type": "code",
   "execution_count": 36,
   "metadata": {},
   "outputs": [
    {
     "name": "stdout",
     "output_type": "stream",
     "text": [
      "\u001b[1mMemory savings due to loading in chunks: 3770.00 MB\n"
     ]
    }
   ],
   "source": [
    "print(\"\\033[1m\" + f\"Memory savings due to loading in chunks: {(7295-3699.65) * 1.048576:.2f} MB\")"
   ]
  },
  {
   "cell_type": "markdown",
   "metadata": {},
   "source": [
    "<br>"
   ]
  },
  {
   "cell_type": "markdown",
   "metadata": {},
   "source": [
    "# Python EDA Observations\n",
    "<hr>"
   ]
  },
  {
   "cell_type": "markdown",
   "metadata": {},
   "source": [
    "Our team decided to try 3 approaches to reduce memory usage when performing the EDA in `Python`:"
   ]
  },
  {
   "cell_type": "markdown",
   "metadata": {},
   "source": [
    "### **Approach 1. Change the data types of the columns in the dataframe.**\n",
    "\n",
    "There are 2 columns of the `object` type (`time` and `model`) and 5 columns of the `float64` type (`lat_min`, `lat_max`, `lon_min`, `lon_max`, and `rain (mm/day)`).\n",
    "\n",
    "* The summary table for the numeric columns shows that they are within the range of the `float32` data type, i.e. the numeric columns' highest values do not exceed the `float32` maximum number, and their lowest values are not less than the `float32` minimum. \n",
    "\n",
    "* Changing the data type for these columns into the `float32` type **leads to the two-fold decrease in memory usage**, with the **reduction from 2498.71 MB to 1249.36 MB**. \n",
    "\n",
    "* It is related to the fact that `float64` allocates twice as much memory as `float32`, since `float64` can store much larger numbers than `float32`.\n",
    "\n",
    "Regarding the `time` and `model` columns, 499.74 MB of memory was allocated for each of the columns. Interestingly, changing the data type for the `time` and `model` columns to `datetime64[ns]` and `string` respectively did not change the amount of memory used.\n",
    "\n",
    "Based on the above, we can **conclude that the `datetime64`, `string`, and `object` data types allocate the same amount of memory for storing data**. For this reason, **in order to reduce memory usage it is reasonable to change the data type for numeric columns**.\n",
    "\n",
    "> In this particular case, **memory savings** due to changing the data types of the numeric columns are **1249.36 MB**.\n"
   ]
  },
  {
   "cell_type": "markdown",
   "metadata": {},
   "source": [
    "<br>"
   ]
  },
  {
   "cell_type": "markdown",
   "metadata": {},
   "source": [
    "### **Approach 2. Load the specific columns we are interested in.**\n",
    "\n",
    "For the sake of the task, we suppose that now we are not interested in the `lat_min` and `lon_min` columns, i.e. these columns do not play a big role in our prediction problem. \n",
    "\n",
    "* **Dropping the specified columns reduced the memory usage** from **3498.20 MB** to **2498.71 MB**.\n",
    "\n",
    "This shows the efficiency of loading only those columns that are necessary for a specific task in terms of memory usage when working with big data.\n",
    "\n",
    "> Here, **memory savings** due to loading not all columns (by dropping two columns) are **999.49 MB**."
   ]
  },
  {
   "cell_type": "markdown",
   "metadata": {},
   "source": [
    "<br>"
   ]
  },
  {
   "cell_type": "markdown",
   "metadata": {},
   "source": [
    "### **Approach 3. Load in data in chunks.**\n",
    "\n",
    "For the sake of this task, we assume that now we are only interested in the `model` column and we performed `value_counts` EDA on the `model` column. \n",
    "\n",
    "* **Loading data** from the `model` column **in chunks reduced the memory usage** from **7649.36 MB** to **3879.36 MB**.\n",
    "\n",
    "* This shows the efficiency of loading data in chunk in terms of memory usage when working with big data.\n",
    "\n",
    "> Here, **memory savings** due to loading data in chunks are **3770.00 MB**."
   ]
  }
 ],
 "metadata": {
  "kernelspec": {
   "display_name": "Python [conda env:525]",
   "language": "python",
   "name": "conda-env-525-py"
  },
  "language_info": {
   "codemirror_mode": {
    "name": "ipython",
    "version": 3
   },
   "file_extension": ".py",
   "mimetype": "text/x-python",
   "name": "python",
   "nbconvert_exporter": "python",
   "pygments_lexer": "ipython3",
   "version": "3.9.2"
  }
 },
 "nbformat": 4,
 "nbformat_minor": 5
}
