{
 "cells": [
  {
   "cell_type": "markdown",
   "metadata": {},
   "source": [
    "# DSCI 525 - Web and Cloud Computing"
   ]
  },
  {
   "cell_type": "markdown",
   "metadata": {},
   "source": [
    "***Milestone 3:*** The purpose of this milestone is to set up your spark cluster and develop your machine learning to deploy in the cloud for the next milestone"
   ]
  },
  {
   "cell_type": "markdown",
   "metadata": {},
   "source": [
    "## Milestone 3 checklist  :"
   ]
  },
  {
   "cell_type": "markdown",
   "metadata": {},
   "source": [
    "- [x] Setup your EMR cluster with Spark & JupyterHub.  \n",
    "- [x] Setup your WebBrowser(Firefox) for EMR.\n",
    "- [x] Develop a ML model using scikit-learn. (We will be using this model to deploy for our next milestone.)\n",
    "- [x] Obtain best hyperparameter settings using spark's MLlib.\n",
    "\n",
    "***SUBMISSION:*** Please put a link in canvas where TAs can find the following-\n",
    "- [x] Python 3 notebook, with the code for ML model in scikit-learn. (You can develop this on your existing jupyterHub in your EC2 instance, from milestone2)\n",
    "- [x] PySpark notebook, with the code for obtaining best hyperparameter settings. ( For this you have to use PySpark notebook in your EMR cluster )\n",
    "- [x] Screenshot from \n",
    "    - [x] Setup your EMR cluster (Task 1).\n",
    "    - [x] Setup your browser , jupyter environment & connect to the master node (Task 2). \n",
    "    - [x] Your S3 bucket showing ```model.joblib``` file. (From Task 3 Develop a ML model using scikit-learn)"
   ]
  },
  {
   "cell_type": "markdown",
   "metadata": {},
   "source": [
    "\n"
   ]
  },
  {
   "cell_type": "markdown",
   "metadata": {},
   "source": [
    "<hr>"
   ]
  },
  {
   "cell_type": "markdown",
   "metadata": {},
   "source": [
    "### 1. Setup your EMR cluster"
   ]
  },
  {
   "cell_type": "markdown",
   "metadata": {},
   "source": [
    "**Screenshot**\n",
    "\n",
    "![](../img/m3_task_1.png)"
   ]
  },
  {
   "cell_type": "markdown",
   "metadata": {},
   "source": [
    "**Our brief comments:** Based on the instructions, we set up our EMR cluster named `group11`."
   ]
  },
  {
   "cell_type": "markdown",
   "metadata": {},
   "source": [
    "\n"
   ]
  },
  {
   "cell_type": "markdown",
   "metadata": {},
   "source": [
    "<hr>"
   ]
  },
  {
   "cell_type": "markdown",
   "metadata": {},
   "source": [
    "### 2. Setup your browser, jupyter environment & connect to the master node."
   ]
  },
  {
   "cell_type": "markdown",
   "metadata": {},
   "source": [
    "**Screenshot**\n",
    "\n",
    "![](../img/m3_task_2.png)"
   ]
  },
  {
   "cell_type": "markdown",
   "metadata": {},
   "source": [
    "\n"
   ]
  },
  {
   "cell_type": "markdown",
   "metadata": {},
   "source": [
    "<hr>"
   ]
  },
  {
   "cell_type": "markdown",
   "metadata": {},
   "source": [
    "### 3. Develop a ML model using scikit-learn"
   ]
  },
  {
   "cell_type": "markdown",
   "metadata": {},
   "source": [
    "Task 3 notebook: https://github.com/UBC-MDS/525_group11/blob/main/notebooks/Milestone3-Task3.ipynb"
   ]
  },
  {
   "cell_type": "markdown",
   "metadata": {},
   "source": [
    "\n"
   ]
  },
  {
   "cell_type": "markdown",
   "metadata": {},
   "source": [
    "<hr>"
   ]
  },
  {
   "cell_type": "markdown",
   "metadata": {},
   "source": [
    "### 3. S3 bucket showing ```model.joblib``` file"
   ]
  },
  {
   "cell_type": "markdown",
   "metadata": {},
   "source": [
    "**File path on S3:** `s3://mds-s3-student34/output/model.joblib`\n",
    "\n",
    "**Screenshot**\n",
    "\n",
    "![](../img/m3_task_3.png)"
   ]
  },
  {
   "cell_type": "markdown",
   "metadata": {},
   "source": [
    "\n"
   ]
  },
  {
   "cell_type": "markdown",
   "metadata": {},
   "source": [
    "<hr>"
   ]
  },
  {
   "cell_type": "markdown",
   "metadata": {},
   "source": [
    "### 4. Obtain best hyperparameter settings using spark's MLlib"
   ]
  },
  {
   "cell_type": "markdown",
   "metadata": {},
   "source": [
    "Task 4 Notebook: https://github.com/UBC-MDS/525_group11/blob/main/notebooks/Milestone3-Task4.ipynb\n",
    "\n",
    "Our results:\n",
    "\n",
    "```\n",
    "Best model for all data points\n",
    "==========\n",
    "\n",
    "CV Score: 8.17\n",
    "numTrees: 100\n",
    "maxDepth: 5\n",
    "```"
   ]
  },
  {
   "cell_type": "markdown",
   "metadata": {},
   "source": [
    "<hr>"
   ]
  }
 ],
 "metadata": {
  "kernelspec": {
   "display_name": "Python 3",
   "language": "python",
   "name": "python3"
  },
  "language_info": {
   "codemirror_mode": {
    "name": "ipython",
    "version": 3
   },
   "file_extension": ".py",
   "mimetype": "text/x-python",
   "name": "python",
   "nbconvert_exporter": "python",
   "pygments_lexer": "ipython3",
   "version": "3.8.3"
  }
 },
 "nbformat": 4,
 "nbformat_minor": 5
}
