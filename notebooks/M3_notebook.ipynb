{
 "cells": [
  {
   "cell_type": "markdown",
   "id": "a9577f2e",
   "metadata": {},
   "source": [
    "# DSCI 525 - Web and Cloud Computing"
   ]
  },
  {
   "cell_type": "markdown",
   "id": "e1a7e0a8",
   "metadata": {},
   "source": [
    "***Milestone 3:*** The purpose of this milestone is to set up your spark cluster and develop your machine learning to deploy in the cloud for the next milestone"
   ]
  },
  {
   "cell_type": "markdown",
   "id": "6bc44053",
   "metadata": {},
   "source": [
    "## Milestone 3 checklist  :"
   ]
  },
  {
   "cell_type": "markdown",
   "id": "e4776de4",
   "metadata": {},
   "source": [
    "- [x] Setup your EMR cluster with Spark & JupyterHub.  \n",
    "- [x] Setup your WebBrowser(Firefox) for EMR.\n",
    "- [x] Develop a ML model using scikit-learn. (We will be using this model to deploy for our next milestone.)\n",
    "- [x] Obtain best hyperparameter settings using spark's MLlib.\n",
    "\n",
    "***SUBMISSION:*** Please put a link in canvas where TAs can find the following-\n",
    "- [x] Python 3 notebook, with the code for ML model in scikit-learn. (You can develop this on your existing jupyterHub in your EC2 instance, from milestone2)\n",
    "- [x] PySpark notebook, with the code for obtaining best hyperparameter settings. ( For this you have to use PySpark notebook in your EMR cluster )\n",
    "- [x] Screenshot from \n",
    "    - [x] Setup your EMR cluster (Task 1).\n",
    "    - [x] Setup your browser , jupyter environment & connect to the master node (Task 2). \n",
    "    - [x] Your S3 bucket showing ```model.joblib``` file. (From Task 3 Develop a ML model using scikit-learn)"
   ]
  },
  {
   "cell_type": "markdown",
   "id": "ddf24233",
   "metadata": {},
   "source": [
    "\n"
   ]
  },
  {
   "cell_type": "markdown",
   "id": "d8b60576",
   "metadata": {},
   "source": [
    "<hr>"
   ]
  },
  {
   "cell_type": "markdown",
   "id": "927c5378",
   "metadata": {},
   "source": [
    "### 1. Setup your EMR cluster"
   ]
  },
  {
   "cell_type": "markdown",
   "id": "d98aea89",
   "metadata": {},
   "source": [
    "**Screenshot**\n",
    "\n",
    "![](../img/m3_task_1.png)"
   ]
  },
  {
   "cell_type": "markdown",
   "id": "f23d2fc9",
   "metadata": {},
   "source": [
    "**Our brief comments:** Based on the instructions, we set up our EMR cluster named `group11`."
   ]
  },
  {
   "cell_type": "markdown",
   "id": "32e1eb7b",
   "metadata": {},
   "source": [
    "\n"
   ]
  },
  {
   "cell_type": "markdown",
   "id": "f7752180",
   "metadata": {},
   "source": [
    "<hr>"
   ]
  },
  {
   "cell_type": "markdown",
   "id": "2817e6b9",
   "metadata": {},
   "source": [
    "### 2. Setup your browser, jupyter environment & connect to the master node."
   ]
  },
  {
   "cell_type": "markdown",
   "id": "07d5d882",
   "metadata": {},
   "source": [
    "**Screenshot**\n",
    "\n",
    "![](../img/m3_task_2.png)"
   ]
  },
  {
   "cell_type": "markdown",
   "id": "87551a6e",
   "metadata": {},
   "source": [
    "\n"
   ]
  },
  {
   "cell_type": "markdown",
   "id": "8a626b62",
   "metadata": {},
   "source": [
    "<hr>"
   ]
  },
  {
   "cell_type": "markdown",
   "id": "dde5efe4",
   "metadata": {},
   "source": [
    "### 3. Develop a ML model using scikit-learn"
   ]
  },
  {
   "cell_type": "markdown",
   "id": "fcc8f270",
   "metadata": {},
   "source": [
    "TODO: replace with the notebook link once having the file committed to Github"
   ]
  },
  {
   "cell_type": "markdown",
   "id": "10bf20c7",
   "metadata": {},
   "source": [
    "\n"
   ]
  },
  {
   "cell_type": "markdown",
   "id": "393ea717",
   "metadata": {},
   "source": [
    "<hr>"
   ]
  },
  {
   "cell_type": "markdown",
   "id": "25b8cfdf",
   "metadata": {},
   "source": [
    "### 3. S3 bucket showing ```model.joblib``` file"
   ]
  },
  {
   "cell_type": "markdown",
   "id": "e1fba6df",
   "metadata": {},
   "source": [
    "**Link to the file on S3:** `s3://mds-s3-student34/output/model.joblib`\n",
    "\n",
    "**Screenshot**\n",
    "\n",
    "![](../img/m3_task_3.png)"
   ]
  },
  {
   "cell_type": "markdown",
   "id": "ff0b4f07",
   "metadata": {},
   "source": [
    "\n"
   ]
  },
  {
   "cell_type": "markdown",
   "id": "c9092ca3",
   "metadata": {},
   "source": [
    "<hr>"
   ]
  },
  {
   "cell_type": "markdown",
   "id": "ede64536",
   "metadata": {},
   "source": [
    "### 4. Obtain best hyperparameter settings using spark's MLlib"
   ]
  },
  {
   "cell_type": "markdown",
   "id": "3136b545",
   "metadata": {},
   "source": [
    "TODO: replace with the notebook link once having the file committed to Github"
   ]
  },
  {
   "cell_type": "markdown",
   "id": "627cb173",
   "metadata": {},
   "source": [
    "<hr>"
   ]
  }
 ],
 "metadata": {
  "kernelspec": {
   "display_name": "Python 3",
   "language": "python",
   "name": "python3"
  },
  "language_info": {
   "codemirror_mode": {
    "name": "ipython",
    "version": 3
   },
   "file_extension": ".py",
   "mimetype": "text/x-python",
   "name": "python",
   "nbconvert_exporter": "python",
   "pygments_lexer": "ipython3",
   "version": "3.9.1"
  }
 },
 "nbformat": 4,
 "nbformat_minor": 5
}
