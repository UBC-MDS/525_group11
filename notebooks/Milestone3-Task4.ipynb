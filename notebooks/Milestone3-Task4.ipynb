{
 "cells": [
  {
   "cell_type": "markdown",
   "metadata": {},
   "source": [
    "# Task 4"
   ]
  },
  {
   "cell_type": "markdown",
   "metadata": {},
   "source": [
    "We haven't discussed MLlib in detail in our class, so consider MLlib as another python package that you are using, like the scikit-learn. What you write using this package, pyspark will be using the spark engine to run your code. I have put guidelines and helpful links (as comments) along with this notebook for taking you through this."
   ]
  },
  {
   "cell_type": "markdown",
   "metadata": {},
   "source": [
    "## Imports"
   ]
  },
  {
   "cell_type": "code",
   "execution_count": 1,
   "metadata": {
    "scrolled": true
   },
   "outputs": [
    {
     "data": {
      "text/html": [
       "<table>\n",
       "<tr><th>ID</th><th>YARN Application ID</th><th>Kind</th><th>State</th><th>Spark UI</th><th>Driver log</th><th>Current session?</th></tr><tr><td>9</td><td>application_1618858334555_0010</td><td>pyspark</td><td>idle</td><td><a target=\"_blank\" href=\"http://ip-172-31-1-85.ca-central-1.compute.internal:20888/proxy/application_1618858334555_0010/\">Link</a></td><td><a target=\"_blank\" href=\"http://ip-172-31-1-85.ca-central-1.compute.internal:8042/node/containerlogs/container_1618858334555_0010_01_000001/livy\">Link</a></td><td>✔</td></tr></table>"
      ],
      "text/plain": [
       "<IPython.core.display.HTML object>"
      ]
     },
     "metadata": {},
     "output_type": "display_data"
    },
    {
     "data": {
      "application/vnd.jupyter.widget-view+json": {
       "model_id": "",
       "version_major": 2,
       "version_minor": 0
      },
      "text/plain": [
       "FloatProgress(value=0.0, bar_style='info', description='Progress:', layout=Layout(height='25px', width='50%'),…"
      ]
     },
     "metadata": {},
     "output_type": "display_data"
    },
    {
     "name": "stdout",
     "output_type": "stream",
     "text": [
      "SparkSession available as 'spark'.\n"
     ]
    },
    {
     "data": {
      "application/vnd.jupyter.widget-view+json": {
       "model_id": "",
       "version_major": 2,
       "version_minor": 0
      },
      "text/plain": [
       "FloatProgress(value=0.0, bar_style='info', description='Progress:', layout=Layout(height='25px', width='50%'),…"
      ]
     },
     "metadata": {},
     "output_type": "display_data"
    }
   ],
   "source": [
    "from pyspark.ml.feature import VectorAssembler\n",
    "from pyspark.ml.evaluation import RegressionEvaluator\n",
    "from pyspark.ml.regression import RandomForestRegressor\n",
    "from pyspark.ml.tuning import CrossValidator, ParamGridBuilder\n",
    "import pandas as pd\n",
    "\n",
    "import json"
   ]
  },
  {
   "cell_type": "markdown",
   "metadata": {},
   "source": [
    "## Read"
   ]
  },
  {
   "cell_type": "markdown",
   "metadata": {},
   "source": [
    "#### Read 100 data points for testing the code, once you get to the bottom then read the entire dataset"
   ]
  },
  {
   "cell_type": "code",
   "execution_count": 2,
   "metadata": {},
   "outputs": [
    {
     "data": {
      "application/vnd.jupyter.widget-view+json": {
       "model_id": "",
       "version_major": 2,
       "version_minor": 0
      },
      "text/plain": [
       "FloatProgress(value=0.0, bar_style='info', description='Progress:', layout=Layout(height='25px', width='50%'),…"
      ]
     },
     "metadata": {},
     "output_type": "display_data"
    }
   ],
   "source": [
    "# Credential is stored in the hard disk\n",
    "f = open(\"/tmp/keys.txt\", \"r\")\n",
    "aws_credentials = json.loads(f.read())\n",
    "\n",
    "## here 100 data points for testing the code\n",
    "pandas_df = pd.read_csv(\"s3://mds-s3-student34/output/ml_data_SYD.csv\", storage_options=aws_credentials, index_col=0, parse_dates=True).iloc[:100].dropna()\n",
    "feature_cols = list(pandas_df.drop(columns=\"Observed\").columns)"
   ]
  },
  {
   "cell_type": "markdown",
   "metadata": {},
   "source": [
    "## Preparing dataset for ML"
   ]
  },
  {
   "cell_type": "code",
   "execution_count": 3,
   "metadata": {},
   "outputs": [
    {
     "data": {
      "application/vnd.jupyter.widget-view+json": {
       "model_id": "",
       "version_major": 2,
       "version_minor": 0
      },
      "text/plain": [
       "FloatProgress(value=0.0, bar_style='info', description='Progress:', layout=Layout(height='25px', width='50%'),…"
      ]
     },
     "metadata": {},
     "output_type": "display_data"
    }
   ],
   "source": [
    "# Load dataframe and coerce features into a single column called \"Features\"\n",
    "# This is a requirement of MLlib\n",
    "# Here we are converting your pandas dataframe to a spark dataframe, \n",
    "# Here \"spark\" is a spark session I will discuss this in our Wed class.\n",
    "# read more  here https://blog.knoldus.com/spark-createdataframe-vs-todf/\n",
    "training_100 = spark.createDataFrame(pandas_df)\n",
    "assembler = VectorAssembler(inputCols=feature_cols, outputCol=\"Features\")\n",
    "training_100 = assembler.transform(training_100).select(\"Features\", \"Observed\")"
   ]
  },
  {
   "cell_type": "markdown",
   "metadata": {},
   "source": [
    "## Find best hyperparameter settings"
   ]
  },
  {
   "cell_type": "markdown",
   "metadata": {},
   "source": [
    "You can refer to [here](https://www.sparkitecture.io/machine-learning/regression/random-forest) and [here](https://www.silect.is/blog/random-forest-models-in-spark-ml/) as a reference. All what you need to complete this task are in there. \n",
    "\n",
    "Some additional info [here](https://projector-video-pdf-converter.datacamp.com/14989/chapter4.pdf)\n",
    "\n",
    "Official Documentation of MLlib, Random forest regression [here](http://spark.apache.org/docs/3.0.1/ml-classification-regression.html#random-forest-regression). When using spark documentation always keep in my API sometimes change with versions, new updates/features come in every version release, so always make sure you choose the documentation of the correct spark version. Please find version what you use [here](http://spark.apache.org/docs/).\n",
    "\n",
    "Use these parameters for coming up with ideal parameters, you could try more parameters, but unfourtunately with this single node cluster we dont have enough power to do it.\n",
    "\n",
    "    - Use numTrees as [10, 50,100]\n",
    "    - maxDepth as [5, 10]\n",
    "    - bootstrap as [False, True]\n",
    "\n",
    "    - In the CrossValidator use evaluator to be RegressionEvaluator(labelCol=\"Observed\")"
   ]
  },
  {
   "cell_type": "code",
   "execution_count": 4,
   "metadata": {},
   "outputs": [
    {
     "data": {
      "application/vnd.jupyter.widget-view+json": {
       "model_id": "",
       "version_major": 2,
       "version_minor": 0
      },
      "text/plain": [
       "FloatProgress(value=0.0, bar_style='info', description='Progress:', layout=Layout(height='25px', width='50%'),…"
      ]
     },
     "metadata": {},
     "output_type": "display_data"
    },
    {
     "name": "stdout",
     "output_type": "stream",
     "text": [
      "+--------------------+------------+\n",
      "|            Features|    Observed|\n",
      "+--------------------+------------+\n",
      "|[0.04042703467348...|0.0066115437|\n",
      "|[0.07377680940408...|  0.09042179|\n",
      "|[0.23265613926923...|   1.4014516|\n",
      "|[0.91131909575779...|   14.869798|\n",
      "|[0.69801307108718...|  0.46762803|\n",
      "|[0.17684631748124...|         0.0|\n",
      "|[0.34710155159700...|  0.40364525|\n",
      "|[0.04275485698599...|  0.11174101|\n",
      "|[0.02940914982900...|         0.0|\n",
      "|[0.02364127412874...|         0.0|\n",
      "|[0.00594996538438...|         0.0|\n",
      "|[0.00470868758384...|         0.0|\n",
      "|[1.25690648274030...|         0.0|\n",
      "|[0.26763034402392...| 0.047772575|\n",
      "|[0.01480196910961...|   0.5970082|\n",
      "|[0.19029487157240...|  0.54629517|\n",
      "|[4.04952006647363...|   1.5323128|\n",
      "|[5.93606340698897...|   1.6153923|\n",
      "|[0.66639061260502...|  0.49775785|\n",
      "|[5.21085580112412...|  0.34187767|\n",
      "+--------------------+------------+\n",
      "only showing top 20 rows"
     ]
    }
   ],
   "source": [
    "##Once you finish testing the model on 100 data points, then load entire dataset and run , this could take ~15 min.\n",
    "## write code here.\n",
    "\n",
    "# Looking at the data\n",
    "training_100.show()"
   ]
  },
  {
   "cell_type": "code",
   "execution_count": 5,
   "metadata": {},
   "outputs": [
    {
     "data": {
      "application/vnd.jupyter.widget-view+json": {
       "model_id": "",
       "version_major": 2,
       "version_minor": 0
      },
      "text/plain": [
       "FloatProgress(value=0.0, bar_style='info', description='Progress:', layout=Layout(height='25px', width='50%'),…"
      ]
     },
     "metadata": {},
     "output_type": "display_data"
    }
   ],
   "source": [
    "def get_cv_score(training, title):\n",
    "    \"\"\"Create a RandomForestRegressor model and run grid search\n",
    "    to find the best hyperparameters\n",
    "    \"\"\"\n",
    "    # Building a model using RandomForestRegressor()\n",
    "    rf = RandomForestRegressor(featuresCol=\"Features\", labelCol=\"Observed\")\n",
    "\n",
    "    # Constructing a grid of parameters to search over\n",
    "    paramGrid = ParamGridBuilder()\\\n",
    "        .addGrid(rf.numTrees, [10, 50, 100]) \\\n",
    "        .addGrid(rf.maxDepth, [5, 10])\\\n",
    "        .addGrid(rf.bootstrap, [False, True])\\\n",
    "        .build()\n",
    "\n",
    "    # Running cross-validation, and choosing the best hyperparameters\n",
    "    crossval = CrossValidator(estimator=rf,\n",
    "                              estimatorParamMaps=paramGrid,\n",
    "                              evaluator=RegressionEvaluator(labelCol=\"Observed\"),\n",
    "                              numFolds=5)\n",
    "\n",
    "    cvModel = crossval.fit(training)\n",
    "    \n",
    "    print(\"\\nBest model for\", title)\n",
    "    print(\"==========\")\n",
    "    print(f\"\\nCV Score: {min(cvModel.avgMetrics):.2f}\")\n",
    "    print(f\"numTrees: {cvModel.bestModel.getNumTrees}\")\n",
    "    print(f\"maxDepth: {cvModel.bestModel.getMaxDepth()}\")"
   ]
  },
  {
   "cell_type": "code",
   "execution_count": 6,
   "metadata": {},
   "outputs": [
    {
     "data": {
      "application/vnd.jupyter.widget-view+json": {
       "model_id": "",
       "version_major": 2,
       "version_minor": 0
      },
      "text/plain": [
       "FloatProgress(value=0.0, bar_style='info', description='Progress:', layout=Layout(height='25px', width='50%'),…"
      ]
     },
     "metadata": {},
     "output_type": "display_data"
    },
    {
     "name": "stdout",
     "output_type": "stream",
     "text": [
      "\n",
      "Best model for 100 data points\n",
      "==========\n",
      "\n",
      "CV Score: 3.54\n",
      "numTrees: 50\n",
      "maxDepth: 5"
     ]
    }
   ],
   "source": [
    "# Running for 100 data points\n",
    "get_cv_score(training_100, \"100 data points\")"
   ]
  },
  {
   "cell_type": "code",
   "execution_count": 7,
   "metadata": {},
   "outputs": [
    {
     "data": {
      "application/vnd.jupyter.widget-view+json": {
       "model_id": "",
       "version_major": 2,
       "version_minor": 0
      },
      "text/plain": [
       "FloatProgress(value=0.0, bar_style='info', description='Progress:', layout=Layout(height='25px', width='50%'),…"
      ]
     },
     "metadata": {},
     "output_type": "display_data"
    }
   ],
   "source": [
    "# Loading the entire dataset\n",
    "pandas_df_full = pd.read_csv(\"s3://mds-s3-student34/output/ml_data_SYD.csv\", storage_options=aws_credentials, index_col=0, parse_dates=True).dropna()\n",
    "feature_cols = list(pandas_df_full.drop(columns=\"Observed\").columns)\n",
    "\n",
    "# Converting the pandas dataframe to a spark dataframe\n",
    "training_full = spark.createDataFrame(pandas_df_full)\n",
    "assembler = VectorAssembler(inputCols=feature_cols, outputCol=\"Features\")\n",
    "training_full = assembler.transform(training_full).select(\"Features\", \"Observed\")"
   ]
  },
  {
   "cell_type": "code",
   "execution_count": 8,
   "metadata": {
    "scrolled": true
   },
   "outputs": [
    {
     "data": {
      "application/vnd.jupyter.widget-view+json": {
       "model_id": "",
       "version_major": 2,
       "version_minor": 0
      },
      "text/plain": [
       "FloatProgress(value=0.0, bar_style='info', description='Progress:', layout=Layout(height='25px', width='50%'),…"
      ]
     },
     "metadata": {},
     "output_type": "display_data"
    },
    {
     "name": "stdout",
     "output_type": "stream",
     "text": [
      "\n",
      "Best model for all data points\n",
      "==========\n",
      "\n",
      "CV Score: 8.17\n",
      "numTrees: 100\n",
      "maxDepth: 5"
     ]
    }
   ],
   "source": [
    "# Running for all data points\n",
    "get_cv_score(training_full, \"all data points\")"
   ]
  }
 ],
 "metadata": {
  "kernelspec": {
   "display_name": "Python [conda env:mds574]",
   "language": "python",
   "name": "conda-env-mds574-py"
  },
  "language_info": {
   "codemirror_mode": {
    "name": "ipython",
    "version": 3
   },
   "file_extension": ".py",
   "mimetype": "text/x-python",
   "name": "python",
   "nbconvert_exporter": "python",
   "pygments_lexer": "ipython3",
   "version": "3.7.10"
  }
 },
 "nbformat": 4,
 "nbformat_minor": 4
}
